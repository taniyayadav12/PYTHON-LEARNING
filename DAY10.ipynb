{
 "cells": [
  {
   "cell_type": "markdown",
   "id": "9429555d",
   "metadata": {},
   "source": [
    "# DAY10:DICTIONARY"
   ]
  },
  {
   "cell_type": "markdown",
   "id": "529ed1e4",
   "metadata": {},
   "source": [
    "Dictionary is used to store values in key:value pairs.\n",
    "Dictionary are mutubale and dynamic.\n",
    "Dictionary can also nested i.e. one can reside in another.\n",
    "Dictionaries are ordered,changeable and does not allow duplicates."
   ]
  },
  {
   "cell_type": "code",
   "execution_count": 2,
   "id": "3057fc4b",
   "metadata": {},
   "outputs": [
    {
     "name": "stdout",
     "output_type": "stream",
     "text": [
      "{'ID': '123ab', 'color': 'black', 'year': 1964}\n",
      "<class 'dict'>\n"
     ]
    }
   ],
   "source": [
    "a={\n",
    "    \"ID\":\"123ab\",\n",
    "    \"color\":\"black\",\n",
    "    \"year\":1964\n",
    "}\n",
    "print(a)\n",
    "print(type(a))"
   ]
  },
  {
   "cell_type": "code",
   "execution_count": 3,
   "id": "421312e6",
   "metadata": {},
   "outputs": [
    {
     "name": "stdout",
     "output_type": "stream",
     "text": [
      "black\n"
     ]
    }
   ],
   "source": [
    "print(a[\"color\"])"
   ]
  },
  {
   "cell_type": "code",
   "execution_count": 4,
   "id": "59e29d3d",
   "metadata": {},
   "outputs": [
    {
     "name": "stdout",
     "output_type": "stream",
     "text": [
      "{'ID': '123ab', 'color': 'black', 'year': 2000}\n"
     ]
    }
   ],
   "source": [
    "a={\n",
    "    \"ID\":\"123ab\",\n",
    "    \"color\":\"black\",\n",
    "    \"year\":1964,\n",
    "    \"year\":2000\n",
    "}\n",
    "print(a)"
   ]
  },
  {
   "cell_type": "markdown",
   "id": "366f5ba5",
   "metadata": {},
   "source": [
    "# Dictionary Length"
   ]
  },
  {
   "cell_type": "code",
   "execution_count": 5,
   "id": "d2f13ffd",
   "metadata": {},
   "outputs": [
    {
     "name": "stdout",
     "output_type": "stream",
     "text": [
      "3\n"
     ]
    }
   ],
   "source": [
    "print(len(a))"
   ]
  },
  {
   "cell_type": "code",
   "execution_count": 9,
   "id": "1cee669e",
   "metadata": {},
   "outputs": [
    {
     "name": "stdout",
     "output_type": "stream",
     "text": [
      "{'ID': '123ab', 'color': 'black', 'year': 1964, 'a': [1, 2, 3, 4, 5], 'b': (2, 2, 3, 4, 5, 6, 7, 8), 'c': False}\n"
     ]
    }
   ],
   "source": [
    "a={\n",
    "    \"ID\":\"123ab\",\n",
    "    \"color\":\"black\",\n",
    "    \"year\":1964,\n",
    "    \"a\":[1,2,3,4,5],\n",
    "    \"b\":(2,2,3,4,5,6,7,8),\n",
    "    \"c\":False\n",
    "}\n",
    "print(a)"
   ]
  },
  {
   "cell_type": "code",
   "execution_count": 12,
   "id": "c25be2b3",
   "metadata": {},
   "outputs": [
    {
     "name": "stdout",
     "output_type": "stream",
     "text": [
      "swati\n"
     ]
    }
   ],
   "source": [
    "a={\"name\":\"swati\",\"age\":27,\"country\":\"India\"}\n",
    "print(a['name'])"
   ]
  },
  {
   "cell_type": "code",
   "execution_count": 13,
   "id": "0ae279c5",
   "metadata": {},
   "outputs": [
    {
     "name": "stdout",
     "output_type": "stream",
     "text": [
      "swati\n"
     ]
    }
   ],
   "source": [
    "a={\"name\":\"swati\",\"age\":27,\"country\":\"India\"}\n",
    "print(a.get('name'))"
   ]
  },
  {
   "cell_type": "code",
   "execution_count": 14,
   "id": "16a409b0",
   "metadata": {},
   "outputs": [],
   "source": [
    "a={\"name\":\"swati\",\"age\":27,\"country\":\"India\"}"
   ]
  },
  {
   "cell_type": "code",
   "execution_count": 15,
   "id": "032c7961",
   "metadata": {},
   "outputs": [],
   "source": [
    "x=a.keys()"
   ]
  },
  {
   "cell_type": "code",
   "execution_count": 16,
   "id": "4572205d",
   "metadata": {},
   "outputs": [
    {
     "data": {
      "text/plain": [
       "dict_keys(['name', 'age', 'country'])"
      ]
     },
     "execution_count": 16,
     "metadata": {},
     "output_type": "execute_result"
    }
   ],
   "source": [
    "x"
   ]
  },
  {
   "cell_type": "code",
   "execution_count": 17,
   "id": "0f45ce97",
   "metadata": {},
   "outputs": [],
   "source": [
    "y=a.values()"
   ]
  },
  {
   "cell_type": "code",
   "execution_count": 18,
   "id": "799e9a5b",
   "metadata": {},
   "outputs": [
    {
     "data": {
      "text/plain": [
       "dict_values(['swati', 27, 'India'])"
      ]
     },
     "execution_count": 18,
     "metadata": {},
     "output_type": "execute_result"
    }
   ],
   "source": [
    "y"
   ]
  },
  {
   "cell_type": "code",
   "execution_count": 19,
   "id": "4200b993",
   "metadata": {},
   "outputs": [
    {
     "name": "stdout",
     "output_type": "stream",
     "text": [
      "{'name': 'swati', 'age': 28, 'country': 'India'}\n"
     ]
    }
   ],
   "source": [
    "a={\"name\":\"swati\",\"age\":27,\"country\":\"India\"}\n",
    "a['age']=28\n",
    "print(a)"
   ]
  },
  {
   "cell_type": "markdown",
   "id": "eb72ebc8",
   "metadata": {},
   "source": [
    "# Updating and deleting items in dictionary"
   ]
  },
  {
   "cell_type": "code",
   "execution_count": 21,
   "id": "e0828c9a",
   "metadata": {},
   "outputs": [
    {
     "name": "stdout",
     "output_type": "stream",
     "text": [
      "{'name': 'swati', 'age': 27, 'country': 'India', 'gender': 'female', 'mail id': 'priya@gmail.com'}\n"
     ]
    }
   ],
   "source": [
    "a={\"name\":\"swati\",\"age\":27,\"country\":\"India\",\"gender\":\"female\"}\n",
    "a.update({\"mail id\":\"priya@gmail.com\"})\n",
    "print(a)"
   ]
  },
  {
   "cell_type": "code",
   "execution_count": 22,
   "id": "f5833475",
   "metadata": {},
   "outputs": [
    {
     "name": "stdout",
     "output_type": "stream",
     "text": [
      "{'name': 'swati', 'country': 'India'}\n"
     ]
    }
   ],
   "source": [
    "a={\"name\":\"swati\",\"age\":27,\"country\":\"India\"}\n",
    "a.pop(\"age\")\n",
    "print(a)"
   ]
  },
  {
   "cell_type": "code",
   "execution_count": 24,
   "id": "19dc28fe",
   "metadata": {},
   "outputs": [
    {
     "name": "stdout",
     "output_type": "stream",
     "text": [
      "{'age': 27, 'country': 'India'}\n"
     ]
    }
   ],
   "source": [
    "a={\"name\":\"swati\",\"age\":27,\"country\":\"India\"}\n",
    "del a[\"name\"]\n",
    "print(a)"
   ]
  },
  {
   "cell_type": "code",
   "execution_count": 36,
   "id": "c835aac5",
   "metadata": {},
   "outputs": [
    {
     "name": "stdout",
     "output_type": "stream",
     "text": [
      "{'name': 'swati', 'age': 27, 'country': 'India'}\n"
     ]
    }
   ],
   "source": [
    "a={\"name\":\"swati\",\"age\":27,\"country\":\"India\"}\n",
    "print(a)"
   ]
  },
  {
   "cell_type": "code",
   "execution_count": 28,
   "id": "2c14504e",
   "metadata": {},
   "outputs": [
    {
     "name": "stdout",
     "output_type": "stream",
     "text": [
      "{'name': 'swati', 'age': 27, 'country': 'India'}\n",
      "<class 'dict'>\n"
     ]
    }
   ],
   "source": [
    "a={\"name\":\"swati\",\"age\":27,\"country\":\"India\"}\n",
    "print(a)\n",
    "print(type(a))"
   ]
  },
  {
   "cell_type": "code",
   "execution_count": 29,
   "id": "c3653c3d",
   "metadata": {},
   "outputs": [
    {
     "name": "stdout",
     "output_type": "stream",
     "text": [
      "{1: 10, 2: 20, 3: 30, 4: 40, 5: 50, 6: 60}\n"
     ]
    }
   ],
   "source": [
    "dict1={1:10,2:20}\n",
    "dict2={3:30,4:40}\n",
    "dict3={5:50,6:60}\n",
    "dict4={}\n",
    "for d in (dict1,dict2,dict3):\n",
    "    dict4.update(d)\n",
    "print(dict4)"
   ]
  },
  {
   "cell_type": "markdown",
   "id": "9f010bfa",
   "metadata": {},
   "source": [
    "Check whether a given key already exists in a library!"
   ]
  },
  {
   "cell_type": "code",
   "execution_count": 35,
   "id": "cbf9329e",
   "metadata": {},
   "outputs": [
    {
     "name": "stdout",
     "output_type": "stream",
     "text": [
      "Present,  value = 300\n"
     ]
    }
   ],
   "source": [
    "def checkKey(dic, key):\n",
    "    if key in dic.keys():\n",
    "        print(\"Present, \", end =\" \")\n",
    "        print(\"value =\", dic[key])\n",
    "    else:\n",
    "        print(\"Not present\")\n",
    "\n",
    "\n",
    "dic = {'a': 100, 'b':200, 'c':300}\n",
    "checkKey(dic,\"c\")"
   ]
  },
  {
   "cell_type": "code",
   "execution_count": null,
   "id": "7147f679",
   "metadata": {},
   "outputs": [],
   "source": []
  }
 ],
 "metadata": {
  "kernelspec": {
   "display_name": "Python 3 (ipykernel)",
   "language": "python",
   "name": "python3"
  },
  "language_info": {
   "codemirror_mode": {
    "name": "ipython",
    "version": 3
   },
   "file_extension": ".py",
   "mimetype": "text/x-python",
   "name": "python",
   "nbconvert_exporter": "python",
   "pygments_lexer": "ipython3",
   "version": "3.10.9"
  }
 },
 "nbformat": 4,
 "nbformat_minor": 5
}
