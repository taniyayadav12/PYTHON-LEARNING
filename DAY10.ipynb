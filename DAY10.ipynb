{
 "cells": [
  {
   "cell_type": "markdown",
   "id": "84712854",
   "metadata": {},
   "source": [
    "# DAY9:TUPLES"
   ]
  },
  {
   "cell_type": "markdown",
   "id": "e49a8762",
   "metadata": {},
   "source": [
    "# Creating a tuple"
   ]
  },
  {
   "cell_type": "code",
   "execution_count": 2,
   "id": "85c2e8e7",
   "metadata": {},
   "outputs": [
    {
     "name": "stdout",
     "output_type": "stream",
     "text": [
      "(1, 2, 3, 4, 5)\n",
      "<class 'tuple'>\n"
     ]
    }
   ],
   "source": [
    "tuple=(1,2,3,4,5)\n",
    "print(tuple)\n",
    "print(type(tuple))"
   ]
  },
  {
   "cell_type": "markdown",
   "id": "dc184748",
   "metadata": {},
   "source": [
    "# Mixed Datatypes"
   ]
  },
  {
   "cell_type": "code",
   "execution_count": 3,
   "id": "0933d97d",
   "metadata": {},
   "outputs": [
    {
     "name": "stdout",
     "output_type": "stream",
     "text": [
      "(1, (2+9j), 3, 'hello')\n",
      "<class 'tuple'>\n"
     ]
    }
   ],
   "source": [
    "tuple=(1,2+9j,3,\"hello\")\n",
    "print(tuple)\n",
    "print(type(tuple))"
   ]
  },
  {
   "cell_type": "markdown",
   "id": "09dc02ca",
   "metadata": {},
   "source": [
    "# Empty Tuple"
   ]
  },
  {
   "cell_type": "code",
   "execution_count": 4,
   "id": "89bf9ec3",
   "metadata": {},
   "outputs": [
    {
     "name": "stdout",
     "output_type": "stream",
     "text": [
      "()\n",
      "<class 'tuple'>\n"
     ]
    }
   ],
   "source": [
    "tuple=()\n",
    "print(tuple)\n",
    "print(type(tuple))"
   ]
  },
  {
   "cell_type": "markdown",
   "id": "d8846197",
   "metadata": {},
   "source": [
    "# Nested Tuple"
   ]
  },
  {
   "cell_type": "code",
   "execution_count": 5,
   "id": "d876808f",
   "metadata": {},
   "outputs": [
    {
     "name": "stdout",
     "output_type": "stream",
     "text": [
      "('data', [1, 2, 3], (8, 9, 10))\n",
      "<class 'tuple'>\n"
     ]
    }
   ],
   "source": [
    "tuple=(\"data\",[1,2,3],(8,9,10))\n",
    "print(tuple)\n",
    "print(type(tuple))"
   ]
  },
  {
   "cell_type": "markdown",
   "id": "99f8c404",
   "metadata": {},
   "source": [
    "# Creating a tuple with only one item"
   ]
  },
  {
   "cell_type": "code",
   "execution_count": 6,
   "id": "cdeb83a7",
   "metadata": {},
   "outputs": [
    {
     "name": "stdout",
     "output_type": "stream",
     "text": [
      "hello\n",
      "<class 'str'>\n"
     ]
    }
   ],
   "source": [
    "var1=(\"hello\")\n",
    "print(var1)\n",
    "print(type(var1))"
   ]
  },
  {
   "cell_type": "code",
   "execution_count": 8,
   "id": "49afbede",
   "metadata": {},
   "outputs": [
    {
     "name": "stdout",
     "output_type": "stream",
     "text": [
      "('hello',)\n",
      "<class 'tuple'>\n"
     ]
    }
   ],
   "source": [
    "var2=(\"hello\",)\n",
    "print(var2)\n",
    "print(type(var2))"
   ]
  },
  {
   "cell_type": "markdown",
   "id": "017438b3",
   "metadata": {},
   "source": [
    "# Tuple Constructor"
   ]
  },
  {
   "cell_type": "code",
   "execution_count": 11,
   "id": "45726ccc",
   "metadata": {},
   "outputs": [
    {
     "name": "stdout",
     "output_type": "stream",
     "text": [
      "('a', 'b', 'c')\n",
      "<class 'tuple'>\n"
     ]
    }
   ],
   "source": [
    "a = (\"a\",\"b\",\"c\")\n",
    "print(a)\n",
    "print(type(a))"
   ]
  },
  {
   "cell_type": "markdown",
   "id": "05bd16a0",
   "metadata": {},
   "source": [
    "# Indexing"
   ]
  },
  {
   "cell_type": "code",
   "execution_count": 13,
   "id": "b00d174f",
   "metadata": {},
   "outputs": [
    {
     "name": "stdout",
     "output_type": "stream",
     "text": [
      "12\n"
     ]
    }
   ],
   "source": [
    "a=(23,5,67,88,12)\n",
    "print(a[4])"
   ]
  },
  {
   "cell_type": "code",
   "execution_count": 15,
   "id": "93ae4437",
   "metadata": {},
   "outputs": [
    {
     "name": "stdout",
     "output_type": "stream",
     "text": [
      "data\n"
     ]
    }
   ],
   "source": [
    "a=(23,5,67,\"data\",88,12,\"python\")\n",
    "print(a[3])"
   ]
  },
  {
   "cell_type": "markdown",
   "id": "91f2e050",
   "metadata": {},
   "source": [
    "# Slicing"
   ]
  },
  {
   "cell_type": "code",
   "execution_count": 16,
   "id": "77ac0a28",
   "metadata": {},
   "outputs": [
    {
     "name": "stdout",
     "output_type": "stream",
     "text": [
      "(33, 56, 90, 11, 12)\n"
     ]
    }
   ],
   "source": [
    "a=(23,5,67,88,33,56,90,11,12)\n",
    "print(a[4:9])"
   ]
  },
  {
   "cell_type": "code",
   "execution_count": 17,
   "id": "cafa711c",
   "metadata": {},
   "outputs": [
    {
     "name": "stdout",
     "output_type": "stream",
     "text": [
      "(23, 5, 67, 88, 33, 56, 90, 11, 12)\n"
     ]
    }
   ],
   "source": [
    "a=(23,5,67,88,33,56,90,11,12)\n",
    "print(a[:9])"
   ]
  },
  {
   "cell_type": "code",
   "execution_count": 19,
   "id": "42b2e856",
   "metadata": {},
   "outputs": [
    {
     "name": "stdout",
     "output_type": "stream",
     "text": [
      "(23, 5, 67, 88)\n"
     ]
    }
   ],
   "source": [
    "a=(23,5,67,88,33,56,90,11,12)\n",
    "print(a[:4])"
   ]
  },
  {
   "cell_type": "markdown",
   "id": "bdd951b6",
   "metadata": {},
   "source": [
    "# Reverse"
   ]
  },
  {
   "cell_type": "code",
   "execution_count": 20,
   "id": "0c7a75a4",
   "metadata": {},
   "outputs": [
    {
     "name": "stdout",
     "output_type": "stream",
     "text": [
      "(12, 11, 90, 56, 33, 88, 67, 5, 23)\n"
     ]
    }
   ],
   "source": [
    "a=(23,5,67,88,33,56,90,11,12)\n",
    "print(a[::-1])"
   ]
  },
  {
   "cell_type": "code",
   "execution_count": 21,
   "id": "d0e64e4a",
   "metadata": {},
   "outputs": [
    {
     "name": "stdout",
     "output_type": "stream",
     "text": [
      "(23, 5, 67, 88, 33, 56, 90, 11, 12)\n",
      "(88, 33, 56, 90, 11, 12)\n",
      "(23, 5, 67, 88)\n",
      "()\n"
     ]
    }
   ],
   "source": [
    "a=(23,5,67,88,33,56,90,11,12)\n",
    "print(a[::])\n",
    "print(a[3:])\n",
    "print(a[:4])\n",
    "print(a[-2:-5])"
   ]
  },
  {
   "cell_type": "code",
   "execution_count": 22,
   "id": "3c052bad",
   "metadata": {},
   "outputs": [
    {
     "name": "stdout",
     "output_type": "stream",
     "text": [
      "(23, 5, 67, 88, 33, 56, 90, 11, 12)\n",
      "<class 'tuple'>\n"
     ]
    }
   ],
   "source": [
    "a=(23,5,67,88,33,56,90,11,12)\n",
    "print(a)\n",
    "print(type(a))"
   ]
  },
  {
   "cell_type": "code",
   "execution_count": 25,
   "id": "d8d8f8d4",
   "metadata": {},
   "outputs": [
    {
     "ename": "TypeError",
     "evalue": "'tuple' object is not callable",
     "output_type": "error",
     "traceback": [
      "\u001b[1;31m---------------------------------------------------------------------------\u001b[0m",
      "\u001b[1;31mTypeError\u001b[0m                                 Traceback (most recent call last)",
      "Cell \u001b[1;32mIn[25], line 4\u001b[0m\n\u001b[0;32m      2\u001b[0m y \u001b[38;5;241m=\u001b[39m \u001b[38;5;28mlist\u001b[39m(a)\n\u001b[0;32m      3\u001b[0m y\u001b[38;5;241m.\u001b[39mappend(\u001b[38;5;241m29\u001b[39m)\n\u001b[1;32m----> 4\u001b[0m a \u001b[38;5;241m=\u001b[39m \u001b[38;5;28;43mtuple\u001b[39;49m\u001b[43m(\u001b[49m\u001b[43my\u001b[49m\u001b[43m)\u001b[49m\n\u001b[0;32m      5\u001b[0m \u001b[38;5;28mprint\u001b[39m(a)\n",
      "\u001b[1;31mTypeError\u001b[0m: 'tuple' object is not callable"
     ]
    }
   ],
   "source": [
    "a = (25,26,27,28)\n",
    "y = list(a)\n",
    "y.append(29)\n",
    "a = tuple(y)\n",
    "print(a)\n"
   ]
  },
  {
   "cell_type": "markdown",
   "id": "5d1f6492",
   "metadata": {},
   "source": [
    "# Loop"
   ]
  },
  {
   "cell_type": "code",
   "execution_count": 26,
   "id": "60fd10e3",
   "metadata": {},
   "outputs": [
    {
     "name": "stdout",
     "output_type": "stream",
     "text": [
      "a\n",
      "b\n",
      "c\n"
     ]
    }
   ],
   "source": [
    "tuple=(\"a\",\"b\",\"c\")\n",
    "for x in tuple:\n",
    "    print(x)"
   ]
  },
  {
   "cell_type": "markdown",
   "id": "32c8bfac",
   "metadata": {},
   "source": [
    "# Joined two tuple"
   ]
  },
  {
   "cell_type": "code",
   "execution_count": 27,
   "id": "547d7280",
   "metadata": {},
   "outputs": [
    {
     "name": "stdout",
     "output_type": "stream",
     "text": [
      "('a', 'b', 'c', 1, 2, 3)\n"
     ]
    }
   ],
   "source": [
    "tuple1 = (\"a\",\"b\",\"c\")\n",
    "tuple2 = (1,2,3)\n",
    "tuple3 = tuple1+tuple2\n",
    "print(tuple3)"
   ]
  },
  {
   "cell_type": "markdown",
   "id": "aab062a6",
   "metadata": {},
   "source": [
    "# Multiply Tuple"
   ]
  },
  {
   "cell_type": "code",
   "execution_count": 28,
   "id": "1da82b22",
   "metadata": {},
   "outputs": [
    {
     "name": "stdout",
     "output_type": "stream",
     "text": [
      "('apple', 'data', 'python', 'apple', 'data', 'python', 'apple', 'data', 'python')\n"
     ]
    }
   ],
   "source": [
    "a=(\"apple\",\"data\",\"python\")\n",
    "a=a*3\n",
    "print(a)"
   ]
  },
  {
   "cell_type": "code",
   "execution_count": 29,
   "id": "2fe03595",
   "metadata": {},
   "outputs": [
    {
     "name": "stdout",
     "output_type": "stream",
     "text": [
      "(1, 2, 3, 4, 5, 6, 7, 8, 9, 10, 1, 2, 3, 4, 5, 6, 7, 8, 9, 10)\n",
      "(1, 2, 3, 4, 5, 6, 7, 8, 9, 10, 1, 2, 3, 4, 5, 6, 7, 8, 9, 10, 1, 2, 3, 4, 5, 6, 7, 8, 9, 10)\n",
      "(1, 2, 3, 4, 5, 6, 7, 8, 9, 10, 1, 2, 3, 4, 5, 6, 7, 8, 9, 10)\n",
      "10\n"
     ]
    }
   ],
   "source": [
    "T=(1,2,3,4,5,6,7,8,9,10)\n",
    "print(T*2)\n",
    "print(T+T+T)\n",
    "print(T+T)\n",
    "print(len(T))"
   ]
  },
  {
   "cell_type": "markdown",
   "id": "0cdc5afa",
   "metadata": {},
   "source": [
    "# Write an input to take 5 input from the user and put it in a tuple.\n"
   ]
  },
  {
   "cell_type": "code",
   "execution_count": 33,
   "id": "e3e09c9b",
   "metadata": {},
   "outputs": [
    {
     "name": "stdout",
     "output_type": "stream",
     "text": [
      "Enter the values:10\n",
      "(10,)\n",
      "Enter the values:11\n",
      "(10, 11)\n",
      "Enter the values:12\n",
      "(10, 11, 12)\n",
      "Enter the values:13\n",
      "(10, 11, 12, 13)\n",
      "Enter the values:14\n",
      "(10, 11, 12, 13, 14)\n",
      "Enter the values:15\n",
      "(10, 11, 12, 13, 14, 15)\n"
     ]
    }
   ],
   "source": [
    "T=()\n",
    "i=0\n",
    "while i<=5:\n",
    "    num=int(input(\"Enter the values:\"))\n",
    "    T = T + (num,)\n",
    "    i = i+1\n",
    "    print(T)"
   ]
  },
  {
   "cell_type": "code",
   "execution_count": null,
   "id": "586327b4",
   "metadata": {},
   "outputs": [],
   "source": []
  }
 ],
 "metadata": {
  "kernelspec": {
   "display_name": "Python 3 (ipykernel)",
   "language": "python",
   "name": "python3"
  },
  "language_info": {
   "codemirror_mode": {
    "name": "ipython",
    "version": 3
   },
   "file_extension": ".py",
   "mimetype": "text/x-python",
   "name": "python",
   "nbconvert_exporter": "python",
   "pygments_lexer": "ipython3",
   "version": "3.10.9"
  }
 },
 "nbformat": 4,
 "nbformat_minor": 5
}
