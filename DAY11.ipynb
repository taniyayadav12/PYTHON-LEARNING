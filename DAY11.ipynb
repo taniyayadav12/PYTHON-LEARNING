{
 "cells": [
  {
   "cell_type": "markdown",
   "id": "a82ebcd2",
   "metadata": {},
   "source": [
    "# DAY11:- SETS"
   ]
  },
  {
   "cell_type": "markdown",
   "id": "6482beaa",
   "metadata": {},
   "source": [
    "Sets are used to dtore multiple items in a single variable.\n",
    "4 built-in Datatypes:-List,Tuple,Dictionary and Sets.\n",
    "\n",
    "Set is a collection which is unordered,unchangeable and unindexed.\n",
    "\n",
    "Everytime we call set items appear in a different order.\n",
    "Set items are unchangeable i.e. we cannot change item but can add and delete items.\n",
    "Sets cannot have two items with the same value.\n"
   ]
  },
  {
   "cell_type": "markdown",
   "id": "2da27965",
   "metadata": {},
   "source": [
    "# Creating a set"
   ]
  },
  {
   "cell_type": "code",
   "execution_count": 1,
   "id": "e0579eca",
   "metadata": {},
   "outputs": [
    {
     "name": "stdout",
     "output_type": "stream",
     "text": [
      "{'cat', 'ball', 'animal'}\n",
      "<class 'set'>\n"
     ]
    }
   ],
   "source": [
    "a={\"animal\",\"ball\",\"cat\"}\n",
    "print(a)\n",
    "print(type(a))"
   ]
  },
  {
   "cell_type": "markdown",
   "id": "d695ce81",
   "metadata": {},
   "source": [
    "# Set items are unordered"
   ]
  },
  {
   "cell_type": "code",
   "execution_count": 4,
   "id": "b60e13b7",
   "metadata": {},
   "outputs": [
    {
     "name": "stdout",
     "output_type": "stream",
     "text": [
      "{'ball', 'car', 'animal'}\n"
     ]
    }
   ],
   "source": [
    "a={\"animal\",\"ball\",\"car\"}\n",
    "print(a) "
   ]
  },
  {
   "cell_type": "markdown",
   "id": "2cfb94c1",
   "metadata": {},
   "source": [
    "# Duplicates not allowed"
   ]
  },
  {
   "cell_type": "code",
   "execution_count": 5,
   "id": "196f50c8",
   "metadata": {},
   "outputs": [
    {
     "name": "stdout",
     "output_type": "stream",
     "text": [
      "{'ball', 'car', 'animal'}\n"
     ]
    }
   ],
   "source": [
    "a={\"animal\",\"ball\",\"car\",\"animal\",\"ball\",\"ball\"}\n",
    "print(a)"
   ]
  },
  {
   "cell_type": "markdown",
   "id": "1ca34cef",
   "metadata": {},
   "source": [
    "# True and 1 is considered as the same value"
   ]
  },
  {
   "cell_type": "code",
   "execution_count": 3,
   "id": "e1143925",
   "metadata": {},
   "outputs": [
    {
     "name": "stdout",
     "output_type": "stream",
     "text": [
      "{1, 2, 'car', 3, 'ball', 'animal'}\n"
     ]
    }
   ],
   "source": [
    "a={\"animal\",\"ball\",\"car\",\"animal\",\"ball\",\"ball\",1,1,2,3,True}\n",
    "print(a)"
   ]
  },
  {
   "cell_type": "markdown",
   "id": "d700ff13",
   "metadata": {},
   "source": [
    "# Length of a set"
   ]
  },
  {
   "cell_type": "code",
   "execution_count": 4,
   "id": "ace6eb03",
   "metadata": {},
   "outputs": [
    {
     "name": "stdout",
     "output_type": "stream",
     "text": [
      "{1, 2, 'car', 3, 'ball', 'animal'}\n",
      "6\n"
     ]
    }
   ],
   "source": [
    "a={\"animal\",\"ball\",\"car\",\"animal\",\"ball\",\"ball\",1,1,2,3,True}\n",
    "print(a)\n",
    "print(len(a))"
   ]
  },
  {
   "cell_type": "markdown",
   "id": "1141ef24",
   "metadata": {},
   "source": [
    "# SET ITEMS:-DATA TYPES"
   ]
  },
  {
   "cell_type": "code",
   "execution_count": 5,
   "id": "4c9c956e",
   "metadata": {},
   "outputs": [
    {
     "name": "stdout",
     "output_type": "stream",
     "text": [
      "{1, 2, 3, 4, 5} {1.1, 3.5, 6.9} {'a', 'b', 'c'} {False, True}\n"
     ]
    }
   ],
   "source": [
    "x1={1,2,3,4,5}\n",
    "x2={1.1,3.5,6.9}\n",
    "x3={\"a\",\"b\",\"c\"}\n",
    "x4={True,False,True}\n",
    "print(x1,x2,x3,x4)"
   ]
  },
  {
   "cell_type": "code",
   "execution_count": 7,
   "id": "77184da9",
   "metadata": {},
   "outputs": [
    {
     "name": "stdout",
     "output_type": "stream",
     "text": [
      "{1, 2, 3, 4.4, 6, 7, 'apple', (5+6j)}\n"
     ]
    }
   ],
   "source": [
    "m={1,2,3,4.4,True,\"apple\",6,7,5+6j}\n",
    "print(m)"
   ]
  },
  {
   "cell_type": "markdown",
   "id": "2f99f478",
   "metadata": {},
   "source": [
    "Another data type(list and set)cannot be inside the set"
   ]
  },
  {
   "cell_type": "code",
   "execution_count": 10,
   "id": "f60fd740",
   "metadata": {},
   "outputs": [
    {
     "ename": "TypeError",
     "evalue": "unhashable type: 'set'",
     "output_type": "error",
     "traceback": [
      "\u001b[1;31m---------------------------------------------------------------------------\u001b[0m",
      "\u001b[1;31mTypeError\u001b[0m                                 Traceback (most recent call last)",
      "Cell \u001b[1;32mIn[10], line 1\u001b[0m\n\u001b[1;32m----> 1\u001b[0m a\u001b[38;5;241m=\u001b[39m{\u001b[38;5;241m1\u001b[39m,\u001b[38;5;241m2\u001b[39m,{\u001b[38;5;241m2\u001b[39m,\u001b[38;5;241m3\u001b[39m,\u001b[38;5;241m4\u001b[39m}}\n\u001b[0;32m      2\u001b[0m \u001b[38;5;28mprint\u001b[39m(a)\n",
      "\u001b[1;31mTypeError\u001b[0m: unhashable type: 'set'"
     ]
    }
   ],
   "source": [
    "a={1,2,{2,3,4}}\n",
    "print(a)"
   ]
  },
  {
   "cell_type": "markdown",
   "id": "458a4879",
   "metadata": {},
   "source": [
    "# Datatype tuple inside the set"
   ]
  },
  {
   "cell_type": "code",
   "execution_count": 11,
   "id": "345d4953",
   "metadata": {},
   "outputs": [
    {
     "name": "stdout",
     "output_type": "stream",
     "text": [
      "{1, (1, 2, 3, 4, 5)}\n"
     ]
    }
   ],
   "source": [
    "a={1,(1,2,3,4,5)}\n",
    "print(a)"
   ]
  },
  {
   "cell_type": "markdown",
   "id": "5a91c2b5",
   "metadata": {},
   "source": [
    "# The set() constructor"
   ]
  },
  {
   "cell_type": "code",
   "execution_count": 12,
   "id": "5b8eb070",
   "metadata": {},
   "outputs": [
    {
     "name": "stdout",
     "output_type": "stream",
     "text": [
      "{'banana', 'apple', 'cherry'}\n",
      "<class 'set'>\n"
     ]
    }
   ],
   "source": [
    "thisset=set((\"apple\",\"banana\",\"cherry\"))\n",
    "print(thisset)\n",
    "print(type(thisset))"
   ]
  },
  {
   "cell_type": "markdown",
   "id": "575ed55c",
   "metadata": {},
   "source": [
    "# Creating Empty Set"
   ]
  },
  {
   "cell_type": "code",
   "execution_count": 13,
   "id": "b87c44dc",
   "metadata": {},
   "outputs": [
    {
     "name": "stdout",
     "output_type": "stream",
     "text": [
      "{}\n",
      "<class 'dict'>\n"
     ]
    }
   ],
   "source": [
    "a={}\n",
    "print(a)\n",
    "print(type(a))"
   ]
  },
  {
   "cell_type": "code",
   "execution_count": 14,
   "id": "2dddadca",
   "metadata": {},
   "outputs": [
    {
     "name": "stdout",
     "output_type": "stream",
     "text": [
      "set()\n",
      "<class 'set'>\n"
     ]
    }
   ],
   "source": [
    "empty=set()\n",
    "print(empty)\n",
    "print(type(empty))"
   ]
  },
  {
   "cell_type": "markdown",
   "id": "4ebb41ca",
   "metadata": {},
   "source": [
    "# Access Items"
   ]
  },
  {
   "cell_type": "code",
   "execution_count": 16,
   "id": "036ce127",
   "metadata": {},
   "outputs": [
    {
     "name": "stdout",
     "output_type": "stream",
     "text": [
      "a\n",
      "b\n",
      "d\n",
      "c\n"
     ]
    }
   ],
   "source": [
    "a={\"a\",\"b\",\"c\",\"d\"}\n",
    "for i in a:\n",
    "    print(i)"
   ]
  },
  {
   "cell_type": "markdown",
   "id": "fa958d3a",
   "metadata": {},
   "source": [
    "# Check if item is available in set"
   ]
  },
  {
   "cell_type": "code",
   "execution_count": 17,
   "id": "86a315de",
   "metadata": {},
   "outputs": [
    {
     "name": "stdout",
     "output_type": "stream",
     "text": [
      "True\n"
     ]
    }
   ],
   "source": [
    "a={\"data\",\"python\",\"code\"}\n",
    "print(\"code\" in a)"
   ]
  },
  {
   "cell_type": "code",
   "execution_count": 18,
   "id": "e45119be",
   "metadata": {},
   "outputs": [
    {
     "name": "stdout",
     "output_type": "stream",
     "text": [
      "False\n"
     ]
    }
   ],
   "source": [
    "a={\"data\",\"python\",\"code\"}\n",
    "print(\"analyst\" in a)"
   ]
  },
  {
   "cell_type": "markdown",
   "id": "88363b10",
   "metadata": {},
   "source": [
    "# Add items in a set"
   ]
  },
  {
   "cell_type": "code",
   "execution_count": 19,
   "id": "90ad572f",
   "metadata": {},
   "outputs": [
    {
     "name": "stdout",
     "output_type": "stream",
     "text": [
      "{'d', 'b', 'c', 'e', 'a'}\n"
     ]
    }
   ],
   "source": [
    "a={\"a\",\"b\",\"c\",\"d\"}\n",
    "a.add(\"e\")\n",
    "print(a)"
   ]
  },
  {
   "cell_type": "code",
   "execution_count": 21,
   "id": "aab45e2b",
   "metadata": {},
   "outputs": [
    {
     "name": "stdout",
     "output_type": "stream",
     "text": [
      "{'python', 20, 30, 40, 'data', 10, 'code'}\n"
     ]
    }
   ],
   "source": [
    "x={\"data\",\"python\",\"code\"}\n",
    "y={10,20,30,40}\n",
    "\n",
    "x.update(y)\n",
    "print(x)"
   ]
  },
  {
   "cell_type": "markdown",
   "id": "a73683a4",
   "metadata": {},
   "source": [
    "# Remove set items"
   ]
  },
  {
   "cell_type": "code",
   "execution_count": 22,
   "id": "27aa3733",
   "metadata": {},
   "outputs": [
    {
     "name": "stdout",
     "output_type": "stream",
     "text": [
      "{70, 8.9, 'python', 55, 'data', 90, 30}\n"
     ]
    }
   ],
   "source": [
    "n={70,40,55,\"python\",8.9,\"data\",90,30}\n",
    "n.remove(40)\n",
    "print(n)"
   ]
  },
  {
   "cell_type": "code",
   "execution_count": 24,
   "id": "b6be99ad",
   "metadata": {},
   "outputs": [
    {
     "name": "stdout",
     "output_type": "stream",
     "text": [
      "{70, 40, 8.9, 'python', 55, 90, 30}\n"
     ]
    }
   ],
   "source": [
    "n={70,40,55,\"python\",8.9,\"data\",90,30}\n",
    "n.remove(\"data\")\n",
    "print(n)"
   ]
  },
  {
   "cell_type": "markdown",
   "id": "ee1fc4db",
   "metadata": {},
   "source": [
    "# Pop function :-to randomly remove a value"
   ]
  },
  {
   "cell_type": "code",
   "execution_count": 25,
   "id": "c7bf5c38",
   "metadata": {},
   "outputs": [
    {
     "name": "stdout",
     "output_type": "stream",
     "text": [
      "{70, 40, 8.9, 'python', 55, 90, 30}\n"
     ]
    }
   ],
   "source": [
    "m={70,40,55,\"python\",8.9,\"data\",90,30}\n",
    "x=m.pop()\n",
    "print(n)"
   ]
  },
  {
   "cell_type": "markdown",
   "id": "049a44b8",
   "metadata": {},
   "source": [
    "# Clear function"
   ]
  },
  {
   "cell_type": "code",
   "execution_count": 26,
   "id": "ca1c37e7",
   "metadata": {},
   "outputs": [
    {
     "name": "stdout",
     "output_type": "stream",
     "text": [
      "{70, 40, 8.9, 'python', 55, 90, 30}\n"
     ]
    }
   ],
   "source": [
    "m={70,40,55,\"python\",8.9,\"data\",90,30}\n",
    "x=m.clear()\n",
    "print(n)  "
   ]
  },
  {
   "cell_type": "markdown",
   "id": "58c6c2d5",
   "metadata": {},
   "source": [
    "# Join two sets"
   ]
  },
  {
   "cell_type": "code",
   "execution_count": 27,
   "id": "49b141af",
   "metadata": {},
   "outputs": [
    {
     "name": "stdout",
     "output_type": "stream",
     "text": [
      "{1, 2, 'b', 3, 'c', 'a'}\n"
     ]
    }
   ],
   "source": [
    "x={\"a\",\"b\",\"c\"}\n",
    "y={1,2,3}\n",
    "z=x.union(y)\n",
    "print(z)"
   ]
  },
  {
   "cell_type": "markdown",
   "id": "d9c51be6",
   "metadata": {},
   "source": [
    "# Write a python program to find min and max value?\n"
   ]
  },
  {
   "cell_type": "code",
   "execution_count": 28,
   "id": "1e1c111d",
   "metadata": {},
   "outputs": [
    {
     "name": "stdout",
     "output_type": "stream",
     "text": [
      "orignal set elements\n",
      "{2, 3, 5, 10, 15}\n",
      "maximum value of th set is\n",
      "15\n",
      "minimum value of the set is\n",
      "2\n"
     ]
    }
   ],
   "source": [
    "setn={5,10,3,15,2}\n",
    "print(\"orignal set elements\")\n",
    "print(setn)\n",
    "print(\"maximum value of th set is\")\n",
    "print(max(setn))\n",
    "print(\"minimum value of the set is\")\n",
    "print(min(setn))"
   ]
  },
  {
   "cell_type": "markdown",
   "id": "46eb3a3c",
   "metadata": {},
   "source": [
    "# Return a new set of identical items from two sets"
   ]
  },
  {
   "cell_type": "code",
   "execution_count": 30,
   "id": "46e19e06",
   "metadata": {},
   "outputs": [
    {
     "name": "stdout",
     "output_type": "stream",
     "text": [
      "{20, 30}\n"
     ]
    }
   ],
   "source": [
    "set1={10,20,30,40,50}\n",
    "set2={12,19,20,30}\n",
    "\n",
    "print(set1.intersection(set2))"
   ]
  },
  {
   "cell_type": "code",
   "execution_count": null,
   "id": "3a47c451",
   "metadata": {},
   "outputs": [],
   "source": []
  }
 ],
 "metadata": {
  "kernelspec": {
   "display_name": "Python 3 (ipykernel)",
   "language": "python",
   "name": "python3"
  },
  "language_info": {
   "codemirror_mode": {
    "name": "ipython",
    "version": 3
   },
   "file_extension": ".py",
   "mimetype": "text/x-python",
   "name": "python",
   "nbconvert_exporter": "python",
   "pygments_lexer": "ipython3",
   "version": "3.10.9"
  }
 },
 "nbformat": 4,
 "nbformat_minor": 5
}
