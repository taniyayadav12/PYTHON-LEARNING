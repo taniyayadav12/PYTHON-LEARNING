{
 "cells": [
  {
   "cell_type": "markdown",
   "id": "f127c7b4",
   "metadata": {},
   "source": [
    "# day 1:this is first class of python"
   ]
  },
  {
   "cell_type": "markdown",
   "id": "41bc02c2",
   "metadata": {},
   "source": [
    "First Program"
   ]
  },
  {
   "cell_type": "code",
   "execution_count": 1,
   "id": "d6f2b323",
   "metadata": {},
   "outputs": [
    {
     "name": "stdout",
     "output_type": "stream",
     "text": [
      "Hello World.\n"
     ]
    }
   ],
   "source": [
    "print(\"Hello World.\")"
   ]
  },
  {
   "cell_type": "code",
   "execution_count": 2,
   "id": "22c92c35",
   "metadata": {},
   "outputs": [
    {
     "name": "stdout",
     "output_type": "stream",
     "text": [
      "5\n"
     ]
    }
   ],
   "source": [
    "print(2+3)"
   ]
  },
  {
   "cell_type": "markdown",
   "id": "4f5b48d4",
   "metadata": {},
   "source": [
    "# python comments"
   ]
  },
  {
   "cell_type": "code",
   "execution_count": 3,
   "id": "ef9ae4f4",
   "metadata": {},
   "outputs": [
    {
     "name": "stdout",
     "output_type": "stream",
     "text": [
      "hello world\n"
     ]
    }
   ],
   "source": [
    "#this is comment\n",
    "print(\"hello world\")"
   ]
  },
  {
   "cell_type": "code",
   "execution_count": 4,
   "id": "7c8bdcb8",
   "metadata": {},
   "outputs": [
    {
     "name": "stdout",
     "output_type": "stream",
     "text": [
      "hello world\n"
     ]
    }
   ],
   "source": [
    "print(\"hello world\") #this is comment"
   ]
  },
  {
   "cell_type": "markdown",
   "id": "996bdb52",
   "metadata": {},
   "source": [
    "# multiline comment"
   ]
  },
  {
   "cell_type": "code",
   "execution_count": 5,
   "id": "0cfe64df",
   "metadata": {},
   "outputs": [
    {
     "name": "stdout",
     "output_type": "stream",
     "text": [
      "5\n"
     ]
    }
   ],
   "source": [
    "#this is comment 1\n",
    "#this is comment 2\n",
    "#this is comment 3\n",
    "\n",
    "print(2+3)\n"
   ]
  },
  {
   "cell_type": "code",
   "execution_count": null,
   "id": "00d30864",
   "metadata": {},
   "outputs": [],
   "source": []
  }
 ],
 "metadata": {
  "kernelspec": {
   "display_name": "Python 3 (ipykernel)",
   "language": "python",
   "name": "python3"
  },
  "language_info": {
   "codemirror_mode": {
    "name": "ipython",
    "version": 3
   },
   "file_extension": ".py",
   "mimetype": "text/x-python",
   "name": "python",
   "nbconvert_exporter": "python",
   "pygments_lexer": "ipython3",
   "version": "3.10.9"
  }
 },
 "nbformat": 4,
 "nbformat_minor": 5
}
