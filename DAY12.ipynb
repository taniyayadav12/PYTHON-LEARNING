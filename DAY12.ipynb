{
 "cells": [
  {
   "cell_type": "markdown",
   "id": "bd2364c0",
   "metadata": {},
   "source": [
    "# DAY12:-NUMPY LIBRARY"
   ]
  },
  {
   "cell_type": "markdown",
   "id": "64f88ca1",
   "metadata": {},
   "source": [
    "It is open source library and it has ability to perform mathematical operations on numerical data set."
   ]
  },
  {
   "cell_type": "markdown",
   "id": "c7969300",
   "metadata": {},
   "source": [
    "It contains a multidimensional array and matrix data structure."
   ]
  },
  {
   "cell_type": "markdown",
   "id": "8cd8f143",
   "metadata": {},
   "source": [
    "The array object in NumPy is called ndarray which provide a lot of supporting functions that make working with ndarray very easy."
   ]
  },
  {
   "cell_type": "code",
   "execution_count": 10,
   "id": "5a99a40d",
   "metadata": {},
   "outputs": [],
   "source": [
    "import numpy as np"
   ]
  },
  {
   "cell_type": "code",
   "execution_count": 11,
   "id": "a95988ae",
   "metadata": {},
   "outputs": [
    {
     "name": "stdout",
     "output_type": "stream",
     "text": [
      "[1 2 3 4 5 6]\n",
      "<class 'numpy.ndarray'>\n"
     ]
    }
   ],
   "source": [
    "arr=np.array([1,2,3,4,5,6])\n",
    "print(arr)\n",
    "print(type(arr))"
   ]
  },
  {
   "cell_type": "code",
   "execution_count": 12,
   "id": "a9796046",
   "metadata": {},
   "outputs": [
    {
     "name": "stdout",
     "output_type": "stream",
     "text": [
      "[1 2 3 4 5]\n",
      "<class 'numpy.ndarray'>\n"
     ]
    }
   ],
   "source": [
    "arr=np.array((1,2,3,4,5))\n",
    "print(arr)\n",
    "print(type(arr))"
   ]
  },
  {
   "cell_type": "markdown",
   "id": "b69f38e5",
   "metadata": {},
   "source": [
    "# Dimensions in array"
   ]
  },
  {
   "cell_type": "markdown",
   "id": "c32eb5ce",
   "metadata": {},
   "source": [
    "0D Element ARRAY"
   ]
  },
  {
   "cell_type": "code",
   "execution_count": 13,
   "id": "1a3c7450",
   "metadata": {},
   "outputs": [
    {
     "name": "stdout",
     "output_type": "stream",
     "text": [
      "20\n",
      "<class 'numpy.ndarray'>\n",
      "0\n"
     ]
    }
   ],
   "source": [
    "arr=np.array(20)\n",
    "print(arr)\n",
    "print(type(arr))\n",
    "print(arr.ndim)"
   ]
  },
  {
   "cell_type": "markdown",
   "id": "441bfc3b",
   "metadata": {},
   "source": [
    "1D ARRAY"
   ]
  },
  {
   "cell_type": "code",
   "execution_count": 14,
   "id": "9db17006",
   "metadata": {},
   "outputs": [
    {
     "name": "stdout",
     "output_type": "stream",
     "text": [
      "[1 2 3 4 5 6]\n",
      "1\n"
     ]
    }
   ],
   "source": [
    "arr=np.array((1,2,3,4,5,6))\n",
    "print(arr)\n",
    "print(arr.ndim)"
   ]
  },
  {
   "cell_type": "markdown",
   "id": "83e21e71",
   "metadata": {},
   "source": [
    "2D ARRAY"
   ]
  },
  {
   "cell_type": "code",
   "execution_count": 16,
   "id": "08697328",
   "metadata": {},
   "outputs": [
    {
     "name": "stdout",
     "output_type": "stream",
     "text": [
      "[[1 2 3]\n",
      " [2 3 4]]\n",
      "2\n"
     ]
    }
   ],
   "source": [
    "arr = np.array([[1,2,3,],[2,3,4]])\n",
    "print(arr)\n",
    "print(arr.ndim)"
   ]
  },
  {
   "cell_type": "code",
   "execution_count": 17,
   "id": "ace19948",
   "metadata": {},
   "outputs": [
    {
     "name": "stdout",
     "output_type": "stream",
     "text": [
      "[[1.2 2.2 3.2]\n",
      " [2.3 3.4 4.7]]\n",
      "2\n"
     ]
    }
   ],
   "source": [
    "arr = np.array([[1.2,2.2,3.2],[2.3,3.4,4.7]])\n",
    "print(arr)\n",
    "print(arr.ndim)"
   ]
  },
  {
   "cell_type": "markdown",
   "id": "333afd19",
   "metadata": {},
   "source": [
    "3D ARRAY"
   ]
  },
  {
   "cell_type": "code",
   "execution_count": 18,
   "id": "c99e290a",
   "metadata": {},
   "outputs": [
    {
     "name": "stdout",
     "output_type": "stream",
     "text": [
      "[[[1 2 3]\n",
      "  [4 5 6]]\n",
      "\n",
      " [[1 2 3]\n",
      "  [7 8 9]]]\n"
     ]
    }
   ],
   "source": [
    "arr = np.array([[[1,2,3],[4,5,6,]],[[1,2,3],[7,8,9]]])\n",
    "print(arr)"
   ]
  },
  {
   "cell_type": "markdown",
   "id": "24d0da69",
   "metadata": {},
   "source": [
    "# ALL IN ONE ARRAY"
   ]
  },
  {
   "cell_type": "code",
   "execution_count": 20,
   "id": "89fe8b1c",
   "metadata": {},
   "outputs": [
    {
     "name": "stdout",
     "output_type": "stream",
     "text": [
      "1 [1 2 3] [[1 2 3]\n",
      " [4 5 6]] [[[1 2 3]\n",
      "  [4 5 6]]\n",
      "\n",
      " [[7 8 9]\n",
      "  [0 1 2]]]\n",
      "0\n",
      "1\n",
      "2\n",
      "3\n"
     ]
    }
   ],
   "source": [
    "a=np.array(1)\n",
    "b=np.array([1,2,3])\n",
    "c=np.array([[1,2,3],[4,5,6]])\n",
    "d=np.array([[[1,2,3],[4,5,6]],[[7,8,9],[0,1,2]]])\n",
    "print(a,b,c,d)\n",
    "print(a.ndim)\n",
    "print(b.ndim)\n",
    "print(c.ndim)\n",
    "print(d.ndim)"
   ]
  },
  {
   "cell_type": "markdown",
   "id": "ba242fcf",
   "metadata": {},
   "source": [
    "# HIGHER DIMENSIONAL ARRAYS"
   ]
  },
  {
   "cell_type": "markdown",
   "id": "1bc9be95",
   "metadata": {},
   "source": [
    "An array having any number of dimension"
   ]
  },
  {
   "cell_type": "markdown",
   "id": "32d44536",
   "metadata": {},
   "source": [
    "When an array is created,you can define number of dimensions by using the ndim argument"
   ]
  },
  {
   "cell_type": "markdown",
   "id": "3d25fbd1",
   "metadata": {},
   "source": [
    "# Creating array of 5 dimensions"
   ]
  },
  {
   "cell_type": "code",
   "execution_count": 24,
   "id": "680a2368",
   "metadata": {},
   "outputs": [
    {
     "name": "stdout",
     "output_type": "stream",
     "text": [
      "[[[[[1 2 3 4]]]]]\n",
      "number of dimensions: 5\n"
     ]
    }
   ],
   "source": [
    "arr=np.array([1,2,3,4],ndmin=5)\n",
    "print(arr)\n",
    "print('number of dimensions:',arr.ndim)"
   ]
  },
  {
   "cell_type": "markdown",
   "id": "b36ca38d",
   "metadata": {},
   "source": [
    "# NumPy Array Indexing"
   ]
  },
  {
   "cell_type": "markdown",
   "id": "25bf81ca",
   "metadata": {},
   "source": [
    "Array is the same as accessing an array element"
   ]
  },
  {
   "cell_type": "markdown",
   "id": "bd62fe0d",
   "metadata": {},
   "source": [
    "You can access an array element by referring to its index number."
   ]
  },
  {
   "cell_type": "markdown",
   "id": "d6b9f8f4",
   "metadata": {},
   "source": [
    "The indexes in NumPy arrays start with 0,meaning that the first element has index 0,and the second has index 1 etc."
   ]
  },
  {
   "cell_type": "markdown",
   "id": "ea3f7b81",
   "metadata": {},
   "source": [
    "# 1D ARRAY"
   ]
  },
  {
   "cell_type": "markdown",
   "id": "a9497c29",
   "metadata": {},
   "source": [
    "# Get the first element of following array:"
   ]
  },
  {
   "cell_type": "code",
   "execution_count": 29,
   "id": "03f5ff1a",
   "metadata": {},
   "outputs": [
    {
     "name": "stdout",
     "output_type": "stream",
     "text": [
      "1\n"
     ]
    }
   ],
   "source": [
    "arr=np.array([1,2,3,4])\n",
    "print(arr[0])"
   ]
  },
  {
   "cell_type": "markdown",
   "id": "4f1cdfa4",
   "metadata": {},
   "source": [
    "# Get 3,6,8 element from an array and add them"
   ]
  },
  {
   "cell_type": "code",
   "execution_count": 30,
   "id": "fea13703",
   "metadata": {},
   "outputs": [
    {
     "name": "stdout",
     "output_type": "stream",
     "text": [
      "3rd element: 4\n",
      "6th element: 7\n",
      "8th element: 9\n",
      "sum of the elements are 20\n"
     ]
    }
   ],
   "source": [
    "m=np.array([1,2,3,4,5,6,7,8,9,10])\n",
    "print('3rd element:',m[3])\n",
    "print('6th element:',m[6])\n",
    "print('8th element:',m[8])\n",
    "print('sum of the elements are',m[3]+m[6]+m[8])"
   ]
  },
  {
   "cell_type": "markdown",
   "id": "be27aed4",
   "metadata": {},
   "source": [
    "# 2D ARRAY"
   ]
  },
  {
   "cell_type": "code",
   "execution_count": 31,
   "id": "9049a494",
   "metadata": {},
   "outputs": [
    {
     "name": "stdout",
     "output_type": "stream",
     "text": [
      "[[1 2 3 4 5]\n",
      " [6 7 8 9 0]]\n"
     ]
    }
   ],
   "source": [
    "arr=np.array([[1,2,3,4,5],[6,7,8,9,0]])\n",
    "print(arr)"
   ]
  },
  {
   "cell_type": "code",
   "execution_count": 33,
   "id": "e26d5f99",
   "metadata": {},
   "outputs": [
    {
     "name": "stdout",
     "output_type": "stream",
     "text": [
      "6\n",
      "5\n"
     ]
    }
   ],
   "source": [
    "arr=np.array([[1,2,3,4,5],[6,7,8,9,0]])\n",
    "print(arr[1,0])\n",
    "print(arr[0,4])"
   ]
  },
  {
   "cell_type": "markdown",
   "id": "eba9055e",
   "metadata": {},
   "source": [
    "# add the first element of row 1 and last element"
   ]
  },
  {
   "cell_type": "code",
   "execution_count": 35,
   "id": "0677f1f9",
   "metadata": {},
   "outputs": [
    {
     "name": "stdout",
     "output_type": "stream",
     "text": [
      "sum is:  1\n"
     ]
    }
   ],
   "source": [
    "arr=np.array([[1,2,3,4,5],[6,7,8,9,0]])\n",
    "print('sum is: ', arr[0,0]+arr[1,4])"
   ]
  },
  {
   "cell_type": "markdown",
   "id": "cc944e33",
   "metadata": {},
   "source": [
    "# ACCESS 3D ARRAYS:"
   ]
  },
  {
   "cell_type": "code",
   "execution_count": 37,
   "id": "97bbe117",
   "metadata": {},
   "outputs": [
    {
     "name": "stdout",
     "output_type": "stream",
     "text": [
      "6\n",
      "7\n"
     ]
    }
   ],
   "source": [
    "arr=np.array([[[1,2,3],[4,5,6]],[[7,8,9],[10,11,12]]])\n",
    "print(arr[0,1,2])\n",
    "print(arr[1,0,0])"
   ]
  },
  {
   "cell_type": "code",
   "execution_count": null,
   "id": "547be979",
   "metadata": {},
   "outputs": [],
   "source": []
  }
 ],
 "metadata": {
  "kernelspec": {
   "display_name": "Python 3 (ipykernel)",
   "language": "python",
   "name": "python3"
  },
  "language_info": {
   "codemirror_mode": {
    "name": "ipython",
    "version": 3
   },
   "file_extension": ".py",
   "mimetype": "text/x-python",
   "name": "python",
   "nbconvert_exporter": "python",
   "pygments_lexer": "ipython3",
   "version": "3.10.9"
  }
 },
 "nbformat": 4,
 "nbformat_minor": 5
}
