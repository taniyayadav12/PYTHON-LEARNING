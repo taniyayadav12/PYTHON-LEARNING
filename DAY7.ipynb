{
 "cells": [
  {
   "cell_type": "markdown",
   "id": "5a3ae408",
   "metadata": {},
   "source": [
    "# DAY 7:STRINGS IN PYTHON"
   ]
  },
  {
   "cell_type": "markdown",
   "id": "1fc5e117",
   "metadata": {},
   "source": [
    "Creating string in Python"
   ]
  },
  {
   "cell_type": "code",
   "execution_count": 2,
   "id": "f5adbe04",
   "metadata": {},
   "outputs": [
    {
     "name": "stdout",
     "output_type": "stream",
     "text": [
      "hello\n",
      "hi\n"
     ]
    }
   ],
   "source": [
    "a=\"hello\"\n",
    "print(a)\n",
    "b='hi'\n",
    "print(b)"
   ]
  },
  {
   "cell_type": "code",
   "execution_count": 3,
   "id": "3d3fd926",
   "metadata": {},
   "outputs": [
    {
     "name": "stdout",
     "output_type": "stream",
     "text": [
      "we are learning python\n",
      "<class 'str'>\n"
     ]
    }
   ],
   "source": [
    "x='we are learning python'\n",
    "print(x)\n",
    "print(type(x))"
   ]
  },
  {
   "cell_type": "markdown",
   "id": "9d55a048",
   "metadata": {},
   "source": [
    "Multiline String"
   ]
  },
  {
   "cell_type": "code",
   "execution_count": 5,
   "id": "5d6b7c55",
   "metadata": {},
   "outputs": [
    {
     "name": "stdout",
     "output_type": "stream",
     "text": [
      "Parachute Regiment consists of PARA and PARA (SF) Battalions, which are the elite volunteer force of Indian Army. The Regiment has the honour of beingconferred the ‘Bravest of the Brave’ distinction. The Regiment has already beenawarded 08 Ashok Chakras, 11 Maha Vir Chakras, 21 Kirti Chakras, 106 ShauryaChakras, 63 Vir Chakras and 491 Sena Medals and the list continues to grow.\n"
     ]
    }
   ],
   "source": [
    "x='Parachute Regiment consists of PARA and PARA (SF) Battalions, which are the elite volunteer force of Indian Army. The Regiment has the honour of beingconferred the ‘Bravest of the Brave’ distinction. The Regiment has already beenawarded 08 Ashok Chakras, 11 Maha Vir Chakras, 21 Kirti Chakras, 106 ShauryaChakras, 63 Vir Chakras and 491 Sena Medals and the list continues to grow.'\n",
    "print(x)"
   ]
  },
  {
   "cell_type": "code",
   "execution_count": 8,
   "id": "ef3a5585",
   "metadata": {},
   "outputs": [
    {
     "name": "stdout",
     "output_type": "stream",
     "text": [
      "Parachute Regiment consists of PARA and PARA (SF) \n",
      "Battalions, which are the elite volunteer force of Indian \n",
      "Army. The Regiment has the honour of beingconferred the \n",
      "‘Bravest of the Brave’ distinction. The Regiment has already\n",
      "beenawarded 08 Ashok Chakras, 11 Maha Vir Chakras, 21 Kirti\n",
      "Chakras, 106 ShauryaChakras, 63 Vir Chakras and 491 Sena \n",
      "Medals and the list continues to grow.\n"
     ]
    }
   ],
   "source": [
    "x='''Parachute Regiment consists of PARA and PARA (SF) \n",
    "Battalions, which are the elite volunteer force of Indian \n",
    "Army. The Regiment has the honour of beingconferred the \n",
    "‘Bravest of the Brave’ distinction. The Regiment has already\n",
    "beenawarded 08 Ashok Chakras, 11 Maha Vir Chakras, 21 Kirti\n",
    "Chakras, 106 ShauryaChakras, 63 Vir Chakras and 491 Sena \n",
    "Medals and the list continues to grow.'''\n",
    "print(x)"
   ]
  },
  {
   "cell_type": "markdown",
   "id": "a8022cb1",
   "metadata": {},
   "source": [
    "# Indexing"
   ]
  },
  {
   "cell_type": "code",
   "execution_count": 9,
   "id": "a2bd62b4",
   "metadata": {},
   "outputs": [
    {
     "name": "stdout",
     "output_type": "stream",
     "text": [
      "n\n"
     ]
    }
   ],
   "source": [
    "a=\"hello students\"\n",
    "print(a[11])"
   ]
  },
  {
   "cell_type": "code",
   "execution_count": 10,
   "id": "205bdd2c",
   "metadata": {},
   "outputs": [
    {
     "name": "stdout",
     "output_type": "stream",
     "text": [
      "t\n"
     ]
    }
   ],
   "source": [
    "print(a[-2])"
   ]
  },
  {
   "cell_type": "code",
   "execution_count": 11,
   "id": "e948eb83",
   "metadata": {},
   "outputs": [
    {
     "name": "stdout",
     "output_type": "stream",
     "text": [
      "r\n"
     ]
    }
   ],
   "source": [
    "a=\"how are your studies going on?\"\n",
    "print(a[11])"
   ]
  },
  {
   "cell_type": "code",
   "execution_count": 12,
   "id": "543309b0",
   "metadata": {},
   "outputs": [
    {
     "name": "stdout",
     "output_type": "stream",
     "text": [
      "?\n"
     ]
    }
   ],
   "source": [
    "a=\"how are your studies going on?\"\n",
    "print(a[-1])"
   ]
  },
  {
   "cell_type": "markdown",
   "id": "1f2d8a3a",
   "metadata": {},
   "source": [
    "# Slicing of a string"
   ]
  },
  {
   "cell_type": "code",
   "execution_count": 13,
   "id": "4a586339",
   "metadata": {},
   "outputs": [
    {
     "name": "stdout",
     "output_type": "stream",
     "text": [
      "ho\n"
     ]
    }
   ],
   "source": [
    "a=\"how are your studies going on?\"\n",
    "print(a[0:2])"
   ]
  },
  {
   "cell_type": "code",
   "execution_count": 15,
   "id": "bcc41ff0",
   "metadata": {},
   "outputs": [
    {
     "name": "stdout",
     "output_type": "stream",
     "text": [
      "how are your studies\n"
     ]
    }
   ],
   "source": [
    "a=\"how are your studies going on?\"\n",
    "print(a[0:20])"
   ]
  },
  {
   "cell_type": "code",
   "execution_count": 16,
   "id": "32e0d0ba",
   "metadata": {},
   "outputs": [
    {
     "name": "stdout",
     "output_type": "stream",
     "text": [
      "\n"
     ]
    }
   ],
   "source": [
    "a=\"how are your studies going on?\"\n",
    "print(a[-1:-3])"
   ]
  },
  {
   "cell_type": "code",
   "execution_count": 18,
   "id": "4266d64f",
   "metadata": {},
   "outputs": [
    {
     "name": "stdout",
     "output_type": "stream",
     "text": [
      "hwaeyu tde\n"
     ]
    }
   ],
   "source": [
    "a=\"how are your studies going on?\"\n",
    "print(a[0:20:2])"
   ]
  },
  {
   "cell_type": "markdown",
   "id": "01a7409b",
   "metadata": {},
   "source": [
    "# Reverse a string"
   ]
  },
  {
   "cell_type": "code",
   "execution_count": 20,
   "id": "6aca4f7c",
   "metadata": {},
   "outputs": [
    {
     "name": "stdout",
     "output_type": "stream",
     "text": [
      "?no gniog seiduts ruoy era woh\n"
     ]
    }
   ],
   "source": [
    "a=\"how are your studies going on?\"\n",
    "print(a[::-1])"
   ]
  },
  {
   "cell_type": "markdown",
   "id": "071610ed",
   "metadata": {},
   "source": [
    "# Finding length of a string"
   ]
  },
  {
   "cell_type": "code",
   "execution_count": 21,
   "id": "03d12aaf",
   "metadata": {},
   "outputs": [
    {
     "name": "stdout",
     "output_type": "stream",
     "text": [
      "30\n"
     ]
    }
   ],
   "source": [
    "a=\"how are your studies going on?\"\n",
    "print(len(a))"
   ]
  },
  {
   "cell_type": "code",
   "execution_count": 22,
   "id": "4f6b1007",
   "metadata": {},
   "outputs": [
    {
     "name": "stdout",
     "output_type": "stream",
     "text": [
      "11\n"
     ]
    }
   ],
   "source": [
    "b=\"hello world\"\n",
    "print(len(b))"
   ]
  },
  {
   "cell_type": "code",
   "execution_count": 23,
   "id": "a33e64a2",
   "metadata": {},
   "outputs": [
    {
     "name": "stdout",
     "output_type": "stream",
     "text": [
      "10\n"
     ]
    }
   ],
   "source": [
    "b=\"helloworld\"\n",
    "print(len(b))"
   ]
  },
  {
   "cell_type": "markdown",
   "id": "6a047391",
   "metadata": {},
   "source": [
    "# Upper Method"
   ]
  },
  {
   "cell_type": "code",
   "execution_count": 25,
   "id": "f5274706",
   "metadata": {},
   "outputs": [
    {
     "name": "stdout",
     "output_type": "stream",
     "text": [
      "HELLO WORLD\n"
     ]
    }
   ],
   "source": [
    "b=\"hello world\"\n",
    "print(b.upper())"
   ]
  },
  {
   "cell_type": "markdown",
   "id": "8771c106",
   "metadata": {},
   "source": [
    "# Lower Method"
   ]
  },
  {
   "cell_type": "code",
   "execution_count": 27,
   "id": "458a6a57",
   "metadata": {},
   "outputs": [
    {
     "name": "stdout",
     "output_type": "stream",
     "text": [
      "hello students\n"
     ]
    }
   ],
   "source": [
    "b=\"HELLo stuDENTS\"\n",
    "print(b.lower())"
   ]
  },
  {
   "cell_type": "markdown",
   "id": "5730534e",
   "metadata": {},
   "source": [
    "# Replace Function"
   ]
  },
  {
   "cell_type": "code",
   "execution_count": 28,
   "id": "6dac4be9",
   "metadata": {},
   "outputs": [
    {
     "name": "stdout",
     "output_type": "stream",
     "text": [
      "bye world\n"
     ]
    }
   ],
   "source": [
    "b=\"hello world\"\n",
    "print(b.replace(\"hello\",\"bye\"))"
   ]
  },
  {
   "cell_type": "code",
   "execution_count": 29,
   "id": "ce258e27",
   "metadata": {},
   "outputs": [
    {
     "name": "stdout",
     "output_type": "stream",
     "text": [
      "hello world\n",
      "bye world\n",
      "hello world\n"
     ]
    }
   ],
   "source": [
    "b=\"hello world\"\n",
    "print(b)\n",
    "print(b.replace(\"hello\",\"bye\"))\n",
    "print(b)"
   ]
  },
  {
   "cell_type": "markdown",
   "id": "0a3cca2a",
   "metadata": {},
   "source": [
    "# Find Method"
   ]
  },
  {
   "cell_type": "code",
   "execution_count": 31,
   "id": "17e74d2b",
   "metadata": {},
   "outputs": [
    {
     "name": "stdout",
     "output_type": "stream",
     "text": [
      "6\n"
     ]
    }
   ],
   "source": [
    "b=\"hello world\"\n",
    "print(b.find(\"w\"))"
   ]
  },
  {
   "cell_type": "code",
   "execution_count": 32,
   "id": "a2f3b80d",
   "metadata": {},
   "outputs": [
    {
     "name": "stdout",
     "output_type": "stream",
     "text": [
      "6\n"
     ]
    }
   ],
   "source": [
    "b=\"hello world\"\n",
    "x=b.find(\"w\")\n",
    "print(x)"
   ]
  },
  {
   "cell_type": "code",
   "execution_count": null,
   "id": "23cc947f",
   "metadata": {},
   "outputs": [],
   "source": []
  }
 ],
 "metadata": {
  "kernelspec": {
   "display_name": "Python 3 (ipykernel)",
   "language": "python",
   "name": "python3"
  },
  "language_info": {
   "codemirror_mode": {
    "name": "ipython",
    "version": 3
   },
   "file_extension": ".py",
   "mimetype": "text/x-python",
   "name": "python",
   "nbconvert_exporter": "python",
   "pygments_lexer": "ipython3",
   "version": "3.10.9"
  }
 },
 "nbformat": 4,
 "nbformat_minor": 5
}
