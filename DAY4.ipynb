{
 "cells": [
  {
   "cell_type": "markdown",
   "id": "0b7df02a",
   "metadata": {},
   "source": [
    "# DAY-4"
   ]
  },
  {
   "cell_type": "markdown",
   "id": "0d90679b",
   "metadata": {},
   "source": [
    "# Control Flow Statements"
   ]
  },
  {
   "cell_type": "markdown",
   "id": "dfb84abf",
   "metadata": {},
   "source": [
    "# 1:-if-condition"
   ]
  },
  {
   "cell_type": "markdown",
   "id": "6dd9fdc5",
   "metadata": {},
   "source": [
    "--------Write a program to calculate marks of 5 subjects------------"
   ]
  },
  {
   "cell_type": "code",
   "execution_count": 2,
   "id": "d46388ff",
   "metadata": {},
   "outputs": [
    {
     "name": "stdout",
     "output_type": "stream",
     "text": [
      "Enter the name of the student:-taniya\n",
      "Enter the marks of the subject 1:-90\n",
      "Enter the marks of the subject 2:-92\n",
      "Enter the marks of the subject 3:-93\n",
      "Enter the marks of the subject 4:-90\n",
      "Enter the marks of the subject 5:-99\n",
      "The percent scored by taniya is 92.80000000000001\n"
     ]
    }
   ],
   "source": [
    "x=input(\"Enter the name of the student:-\")\n",
    "m1=int(input(\"Enter the marks of the subject 1:-\"))\n",
    "m2=int(input(\"Enter the marks of the subject 2:-\"))\n",
    "m3=int(input(\"Enter the marks of the subject 3:-\"))\n",
    "m4=int(input(\"Enter the marks of the subject 4:-\"))\n",
    "m5=int(input(\"Enter the marks of the subject 5:-\"))\n",
    "m=((m1+m2+m3+m4+m5)/500)*100\n",
    "print(\"The percent scored by\",x,\"is\",m)"
   ]
  },
  {
   "cell_type": "markdown",
   "id": "3d8680c0",
   "metadata": {},
   "source": [
    "# -------------if percentage above 90 assign A grade-- if percentage above 75 assign B grade-- if percentage above 65 assign C grade------------------"
   ]
  },
  {
   "cell_type": "code",
   "execution_count": 3,
   "id": "3abbc6de",
   "metadata": {},
   "outputs": [
    {
     "name": "stdout",
     "output_type": "stream",
     "text": [
      "Enter the name of the student:-taniya\n",
      "Enter the marks of the subject 1:-89\n",
      "Enter the marks of the subject 2:-99\n",
      "Enter the marks of the subject 3:-56\n",
      "Enter the marks of the subject 4:-78\n",
      "Enter the marks of the subject 5:-98\n",
      "The percent scored by taniya is 84.0\n",
      "Grade rewarded to child is B\n"
     ]
    }
   ],
   "source": [
    "x=input(\"Enter the name of the student:-\")\n",
    "m1=int(input(\"Enter the marks of the subject 1:-\"))\n",
    "m2=int(input(\"Enter the marks of the subject 2:-\"))\n",
    "m3=int(input(\"Enter the marks of the subject 3:-\"))\n",
    "m4=int(input(\"Enter the marks of the subject 4:-\"))\n",
    "m5=int(input(\"Enter the marks of the subject 5:-\"))\n",
    "m=((m1+m2+m3+m4+m5)/500)*100\n",
    "print(\"The percent scored by\",x,\"is\",m)\n",
    "if(m>90):\n",
    "    print(\"Grade rewarded to child is A\")\n",
    "elif(m>75 and m<90):\n",
    "    print(\"Grade rewarded to child is B\")\n",
    "elif(m>65 and m<75):\n",
    "    print(\"Grade rewarded to child is C\")"
   ]
  },
  {
   "cell_type": "markdown",
   "id": "c033a502",
   "metadata": {},
   "source": [
    "-------Write a program to display hello to a user if number entered is a multiple of 5 else bye.----------"
   ]
  },
  {
   "cell_type": "code",
   "execution_count": 4,
   "id": "94b389b3",
   "metadata": {},
   "outputs": [
    {
     "name": "stdout",
     "output_type": "stream",
     "text": [
      "Enter a number:-89\n",
      "Bye\n"
     ]
    }
   ],
   "source": [
    "x=int(input(\"Enter a number:-\"))\n",
    "if(x%5==0):\n",
    "    print(\"Hello\")\n",
    "else:\n",
    "    print(\"Bye\")"
   ]
  },
  {
   "cell_type": "markdown",
   "id": "f617615e",
   "metadata": {},
   "source": [
    "--------------------------------------Accept the city and print its monument---------------------------------------------------- delhi-red fort agra-taj mahal jaipur-jal mahal hyderabad-charminar orrisa-konak temple other-record not found"
   ]
  },
  {
   "cell_type": "code",
   "execution_count": 5,
   "id": "e10c70b1",
   "metadata": {},
   "outputs": [
    {
     "name": "stdout",
     "output_type": "stream",
     "text": [
      "Enter the city:-hyderabad\n",
      "charminar\n"
     ]
    }
   ],
   "source": [
    "x=input(\"Enter the city:-\")\n",
    "if(x==\"delhi\"):\n",
    "    print(\"Red Fort\")\n",
    "elif(x==\"agra\"):\n",
    "    print(\"Taj Mahal\")\n",
    "elif(x==\"jaipur\"):\n",
    "    print(\"jal mahal\")\n",
    "elif(x==\"hyderabad\"):\n",
    "    print(\"charminar\")\n",
    "elif(x==\"orrisa\"):\n",
    "    print(\"konak temple\")\n",
    "else:\n",
    "    print(\"record not found\")"
   ]
  },
  {
   "cell_type": "code",
   "execution_count": null,
   "id": "e0baa665",
   "metadata": {},
   "outputs": [],
   "source": []
  }
 ],
 "metadata": {
  "kernelspec": {
   "display_name": "Python 3 (ipykernel)",
   "language": "python",
   "name": "python3"
  },
  "language_info": {
   "codemirror_mode": {
    "name": "ipython",
    "version": 3
   },
   "file_extension": ".py",
   "mimetype": "text/x-python",
   "name": "python",
   "nbconvert_exporter": "python",
   "pygments_lexer": "ipython3",
   "version": "3.10.9"
  }
 },
 "nbformat": 4,
 "nbformat_minor": 5
}
