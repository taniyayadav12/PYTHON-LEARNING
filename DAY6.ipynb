{
 "cells": [
  {
   "cell_type": "markdown",
   "id": "69154a8a",
   "metadata": {},
   "source": [
    "# DAY-6"
   ]
  },
  {
   "cell_type": "markdown",
   "id": "d52f6728",
   "metadata": {},
   "source": [
    "# USER DEFINED FUNCTIONS"
   ]
  },
  {
   "cell_type": "markdown",
   "id": "b31acd6f",
   "metadata": {},
   "source": [
    "# Creating a user defined function"
   ]
  },
  {
   "cell_type": "code",
   "execution_count": 2,
   "id": "58d7c7e8",
   "metadata": {},
   "outputs": [
    {
     "name": "stdout",
     "output_type": "stream",
     "text": [
      "hello\n"
     ]
    }
   ],
   "source": [
    "def my_function():\n",
    "    print(\"hello\")\n",
    "my_function()"
   ]
  },
  {
   "cell_type": "markdown",
   "id": "cd61d46d",
   "metadata": {},
   "source": [
    "-------------Making a result of a student------------"
   ]
  },
  {
   "cell_type": "code",
   "execution_count": 3,
   "id": "f9d8e247",
   "metadata": {},
   "outputs": [],
   "source": [
    "def contact():\n",
    "    print(\"Contact details of the school\")\n",
    "    print(\"Delhi Public School\")\n",
    "    print(\"Delhi,India\")\n",
    "    print(\"987654321\")\n",
    "    print(\"dps.contact@gmail.com\")"
   ]
  },
  {
   "cell_type": "code",
   "execution_count": 4,
   "id": "d0feab65",
   "metadata": {},
   "outputs": [
    {
     "name": "stdout",
     "output_type": "stream",
     "text": [
      "Enter name of student:taniya\n",
      "enter the marks of maths:90\n",
      "enter the marks of science:99\n",
      "enter the marks of english:98\n",
      "Contact details of the school\n",
      "Delhi Public School\n",
      "Delhi,India\n",
      "987654321\n",
      "dps.contact@gmail.com\n",
      "Enter name of student:tajak\n",
      "enter the marks of maths:89\n",
      "enter the marks of science:90\n",
      "enter the marks of english:90\n",
      "Contact details of the school\n",
      "Delhi Public School\n",
      "Delhi,India\n",
      "987654321\n",
      "dps.contact@gmail.com\n",
      "Enter name of student:iskw\n",
      "enter the marks of maths:9\n",
      "enter the marks of science:9\n",
      "enter the marks of english:9\n",
      "Contact details of the school\n",
      "Delhi Public School\n",
      "Delhi,India\n",
      "987654321\n",
      "dps.contact@gmail.com\n",
      "Enter name of student:kwisow\n",
      "enter the marks of maths:9\n",
      "enter the marks of science:9\n",
      "enter the marks of english:9\n",
      "Contact details of the school\n",
      "Delhi Public School\n",
      "Delhi,India\n",
      "987654321\n",
      "dps.contact@gmail.com\n"
     ]
    }
   ],
   "source": [
    "def contact():\n",
    "    print(\"Contact details of the school\")\n",
    "    print(\"Delhi Public School\")\n",
    "    print(\"Delhi,India\")\n",
    "    print(\"987654321\")\n",
    "    print(\"dps.contact@gmail.com\")\n",
    "for i in range(4):\n",
    "    a=input(\"Enter name of student:\")\n",
    "    b=int(input(\"enter the marks of maths:\"))\n",
    "    c=int(input(\"enter the marks of science:\"))\n",
    "    d=int(input(\"enter the marks of english:\"))\n",
    "    contact()"
   ]
  },
  {
   "cell_type": "markdown",
   "id": "721b337e",
   "metadata": {},
   "source": [
    "# Arguments"
   ]
  },
  {
   "cell_type": "code",
   "execution_count": 5,
   "id": "8436fceb",
   "metadata": {},
   "outputs": [
    {
     "name": "stdout",
     "output_type": "stream",
     "text": [
      "pooja sharma\n"
     ]
    }
   ],
   "source": [
    "def my_function(fname):\n",
    "    print(fname+\" sharma\")\n",
    "my_function(\"pooja\")"
   ]
  },
  {
   "cell_type": "code",
   "execution_count": 8,
   "id": "a01bfada",
   "metadata": {},
   "outputs": [
    {
     "name": "stdout",
     "output_type": "stream",
     "text": [
      "rahul yadav\n"
     ]
    }
   ],
   "source": [
    "def my_function(fname,lname):\n",
    "    print(fname+ lname)\n",
    "my_function(\"rahul \",\"yadav\")"
   ]
  },
  {
   "cell_type": "markdown",
   "id": "6ab2c04b",
   "metadata": {},
   "source": [
    "-------WRITE A PROGRAM TO CALCULATE THE ELECTRICITY BILL--------\n",
    "\n",
    "if 500 unit used pay 5rupee for each unit\n",
    "if 700 unit used pay 10rupee for each unit\n",
    "if 1000 unit used pay 15rupee for each unit\n",
    "if 1000 unit used pay 20rupee for each unit"
   ]
  },
  {
   "cell_type": "code",
   "execution_count": 10,
   "id": "e5f4f642",
   "metadata": {},
   "outputs": [
    {
     "name": "stdout",
     "output_type": "stream",
     "text": [
      "Enter name of customer:Taniya\n",
      "Enter the unit of electricity you have used:-450\n",
      "Your electricity bill is  2250\n",
      "Enter name of customer:anushka\n",
      "Enter the unit of electricity you have used:-600\n",
      "Your electricity bill is  6000\n",
      "Enter name of customer:aman\n",
      "Enter the unit of electricity you have used:-800\n",
      "Your electricity bill is  12000\n"
     ]
    }
   ],
   "source": [
    "def electricity_bill(n):\n",
    "    if n<500:\n",
    "        print(\"Your electricity bill is \",n*5)\n",
    "    elif n>500 and n<700:\n",
    "        print(\"Your electricity bill is \",n*10)\n",
    "    elif n>700 and n<1000:\n",
    "        print(\"Your electricity bill is \",n*15)\n",
    "    elif n>1000:\n",
    "        print(\"Your electricity bill is \",n*20)\n",
    "for i in range(3):\n",
    "    x=input(\"Enter name of customer:\")\n",
    "    n=int(input(\"Enter the unit of electricity you have used:-\"))\n",
    "    electricity_bill(n)\n",
    "    "
   ]
  },
  {
   "cell_type": "code",
   "execution_count": 11,
   "id": "bc692eb1",
   "metadata": {},
   "outputs": [],
   "source": [
    "def instructions():\n",
    "    print(\"last date of paying the bill is end of every month\")\n",
    "    print(\"after every 30 of month Rs1000 fine will be charged.\")\n",
    "    print(\"Electricity Office,New Delhi\")"
   ]
  },
  {
   "cell_type": "code",
   "execution_count": 1,
   "id": "0eb90260",
   "metadata": {},
   "outputs": [
    {
     "name": "stdout",
     "output_type": "stream",
     "text": [
      "Enter name of customer:Taniya\n",
      "Enter the unit of electricity you have used:-450\n",
      "Your electricity bill is  2250\n",
      "last date of paying the bill is end of every month\n",
      "after every 30 of month Rs1000 fine will be charged.\n",
      "Electricity Office,New Delhi\n",
      "Enter name of customer:Aman\n",
      "Enter the unit of electricity you have used:-600\n",
      "Your electricity bill is  6000\n",
      "last date of paying the bill is end of every month\n",
      "after every 30 of month Rs1000 fine will be charged.\n",
      "Electricity Office,New Delhi\n"
     ]
    }
   ],
   "source": [
    "def electricity_bill(n):\n",
    "    if n<500:\n",
    "        print(\"Your electricity bill is \",n*5)\n",
    "    elif n>500 and n<700:\n",
    "        print(\"Your electricity bill is \",n*10)\n",
    "    elif n>700 and n<1000:\n",
    "        print(\"Your electricity bill is \",n*15)\n",
    "    elif n>1000:\n",
    "        print(\"Your electricity bill is \",n*20)\n",
    "def instructions():\n",
    "    print(\"last date of paying the bill is end of every month\")\n",
    "    print(\"after every 30 of month Rs1000 fine will be charged.\")\n",
    "    print(\"Electricity Office,New Delhi\")\n",
    "for i in range(2):\n",
    "    x=input(\"Enter name of customer:\")\n",
    "    n=int(input(\"Enter the unit of electricity you have used:-\"))\n",
    "    electricity_bill(n)\n",
    "    instructions()"
   ]
  },
  {
   "cell_type": "code",
   "execution_count": null,
   "id": "074e0bf1",
   "metadata": {},
   "outputs": [],
   "source": []
  }
 ],
 "metadata": {
  "kernelspec": {
   "display_name": "Python 3 (ipykernel)",
   "language": "python",
   "name": "python3"
  },
  "language_info": {
   "codemirror_mode": {
    "name": "ipython",
    "version": 3
   },
   "file_extension": ".py",
   "mimetype": "text/x-python",
   "name": "python",
   "nbconvert_exporter": "python",
   "pygments_lexer": "ipython3",
   "version": "3.10.9"
  }
 },
 "nbformat": 4,
 "nbformat_minor": 5
}
