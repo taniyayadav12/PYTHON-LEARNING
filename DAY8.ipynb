{
 "cells": [
  {
   "cell_type": "markdown",
   "id": "ec28eb99",
   "metadata": {},
   "source": [
    "# DAY 8:List in Python"
   ]
  },
  {
   "cell_type": "code",
   "execution_count": 1,
   "id": "cbdae92a",
   "metadata": {},
   "outputs": [
    {
     "name": "stdout",
     "output_type": "stream",
     "text": [
      "['apple', 'banana', 'cherry']\n",
      "<class 'list'>\n"
     ]
    }
   ],
   "source": [
    "mylist=[\"apple\",\"banana\",\"cherry\"]\n",
    "print(mylist)\n",
    "print(type(mylist))"
   ]
  },
  {
   "cell_type": "markdown",
   "id": "aba1762a",
   "metadata": {},
   "source": [
    "# Allow duplicates"
   ]
  },
  {
   "cell_type": "code",
   "execution_count": 2,
   "id": "fa433002",
   "metadata": {},
   "outputs": [
    {
     "name": "stdout",
     "output_type": "stream",
     "text": [
      "['apple', 'banana', 'cherry', 'apple', 'banana', 'apple']\n"
     ]
    }
   ],
   "source": [
    "mylist=[\"apple\",\"banana\",\"cherry\",\"apple\",\"banana\",\"apple\"]\n",
    "print(mylist)"
   ]
  },
  {
   "cell_type": "markdown",
   "id": "2742af8c",
   "metadata": {},
   "source": [
    "# Data Types in List"
   ]
  },
  {
   "cell_type": "code",
   "execution_count": 4,
   "id": "980cbfe6",
   "metadata": {},
   "outputs": [
    {
     "name": "stdout",
     "output_type": "stream",
     "text": [
      "['apple', 'banana', 'cherry']\n",
      "[2, 7, 9, 0]\n",
      "[2.6, 7.8, 9.0, 8.88]\n",
      "[True, False]\n"
     ]
    }
   ],
   "source": [
    "list1=[\"apple\",\"banana\",\"cherry\"]\n",
    "list2=[2,7,9,0]\n",
    "list3=[2.6,7.8,9.0,8.88]\n",
    "list4=[True,False]\n",
    "print(list1)\n",
    "print(list2)\n",
    "print(list3)\n",
    "print(list4)"
   ]
  },
  {
   "cell_type": "code",
   "execution_count": 6,
   "id": "96c0634c",
   "metadata": {},
   "outputs": [
    {
     "name": "stdout",
     "output_type": "stream",
     "text": [
      "[12, 8.9, 'apple', 0, 9.0, True, 'cherry', 9, 'banana', False]\n"
     ]
    }
   ],
   "source": [
    "a=[12,8.9,\"apple\",0,9.00,True,\"cherry\",9,\"banana\",False]\n",
    "print(a)"
   ]
  },
  {
   "cell_type": "markdown",
   "id": "475d1c21",
   "metadata": {},
   "source": [
    "# List Length"
   ]
  },
  {
   "cell_type": "code",
   "execution_count": 7,
   "id": "ed29a5e4",
   "metadata": {},
   "outputs": [
    {
     "name": "stdout",
     "output_type": "stream",
     "text": [
      "10\n"
     ]
    }
   ],
   "source": [
    "a=[12,8.9,\"apple\",0,9.00,True,\"cherry\",9,\"banana\",False]\n",
    "print(len(a))"
   ]
  },
  {
   "cell_type": "markdown",
   "id": "d2ac01c2",
   "metadata": {},
   "source": [
    "# Access Items"
   ]
  },
  {
   "cell_type": "code",
   "execution_count": 8,
   "id": "c4b0d0bd",
   "metadata": {},
   "outputs": [
    {
     "name": "stdout",
     "output_type": "stream",
     "text": [
      "8.9\n"
     ]
    }
   ],
   "source": [
    "a=[12,8.9,\"apple\",0,9.00,True,\"cherry\",9,\"banana\",False]\n",
    "print(a[1])"
   ]
  },
  {
   "cell_type": "code",
   "execution_count": 11,
   "id": "e58bfa38",
   "metadata": {},
   "outputs": [
    {
     "name": "stdout",
     "output_type": "stream",
     "text": [
      "cherry\n"
     ]
    }
   ],
   "source": [
    "a=[12,8.9,\"apple\",0,9.00,True,\"cherry\",9,\"banana\",False]\n",
    "print(a[6])"
   ]
  },
  {
   "cell_type": "code",
   "execution_count": 12,
   "id": "4dc2c6ec",
   "metadata": {},
   "outputs": [
    {
     "name": "stdout",
     "output_type": "stream",
     "text": [
      "[8.9, 'apple', 0]\n"
     ]
    }
   ],
   "source": [
    "a=[12,8.9,\"apple\",0,9.00,True,\"cherry\",9,\"banana\",False]\n",
    "print(a[1:4])"
   ]
  },
  {
   "cell_type": "code",
   "execution_count": 13,
   "id": "dd5a75c1",
   "metadata": {},
   "outputs": [
    {
     "name": "stdout",
     "output_type": "stream",
     "text": [
      "[8.9, 0, True]\n"
     ]
    }
   ],
   "source": [
    "a=[12,8.9,\"apple\",0,9.00,True,\"cherry\",9,\"banana\",False]\n",
    "print(a[1:7:2])"
   ]
  },
  {
   "cell_type": "markdown",
   "id": "e8dd8ee3",
   "metadata": {},
   "source": [
    "# Change Items"
   ]
  },
  {
   "cell_type": "code",
   "execution_count": 15,
   "id": "33521777",
   "metadata": {},
   "outputs": [
    {
     "name": "stdout",
     "output_type": "stream",
     "text": [
      "['apple', 'watermelon', 'cherry']\n"
     ]
    }
   ],
   "source": [
    "list1=[\"apple\",\"banana\",\"cherry\"]\n",
    "list1[1]=\"watermelon\"\n",
    "print(list1)"
   ]
  },
  {
   "cell_type": "code",
   "execution_count": 16,
   "id": "abc7c3f8",
   "metadata": {},
   "outputs": [
    {
     "name": "stdout",
     "output_type": "stream",
     "text": [
      "['apple', '1', 'cherry']\n"
     ]
    }
   ],
   "source": [
    "list1=[\"apple\",\"banana\",\"cherry\"]\n",
    "list1[1]=\"1\"\n",
    "print(list1)"
   ]
  },
  {
   "cell_type": "markdown",
   "id": "1f6ce555",
   "metadata": {},
   "source": [
    "# Change a range in item of values"
   ]
  },
  {
   "cell_type": "code",
   "execution_count": 17,
   "id": "1c74510a",
   "metadata": {},
   "outputs": [
    {
     "name": "stdout",
     "output_type": "stream",
     "text": [
      "[2, 10, 11, 0]\n"
     ]
    }
   ],
   "source": [
    "list2=[2,7,9,0]\n",
    "list2[1:3]=[10,11]\n",
    "print(list2)"
   ]
  },
  {
   "cell_type": "markdown",
   "id": "3c5f4765",
   "metadata": {},
   "source": [
    "# Adding item in list"
   ]
  },
  {
   "cell_type": "code",
   "execution_count": 18,
   "id": "50e2f698",
   "metadata": {},
   "outputs": [
    {
     "name": "stdout",
     "output_type": "stream",
     "text": [
      "[2, 7, 9, 0, 10]\n"
     ]
    }
   ],
   "source": [
    "list2=[2,7,9,0]\n",
    "list2.append(10)\n",
    "print(list2)"
   ]
  },
  {
   "cell_type": "markdown",
   "id": "ada4afe7",
   "metadata": {},
   "source": [
    "# Deleting item in a list"
   ]
  },
  {
   "cell_type": "code",
   "execution_count": 20,
   "id": "14303a46",
   "metadata": {},
   "outputs": [
    {
     "name": "stdout",
     "output_type": "stream",
     "text": [
      "[2, 98, 0, 8, 11, 6, 34, 87, 45, 22, 12]\n"
     ]
    }
   ],
   "source": [
    "list2=[2,17,98,0,8,11,6,34,87,45,22,12]\n",
    "list2.remove(17)\n",
    "print(list2)"
   ]
  },
  {
   "cell_type": "code",
   "execution_count": 21,
   "id": "7767b68f",
   "metadata": {},
   "outputs": [
    {
     "name": "stdout",
     "output_type": "stream",
     "text": [
      "['banana', 'cherry']\n"
     ]
    }
   ],
   "source": [
    "list1=[\"apple\",\"banana\",\"cherry\"]\n",
    "list1.remove(\"apple\")\n",
    "print(list1)"
   ]
  },
  {
   "cell_type": "code",
   "execution_count": 23,
   "id": "63516313",
   "metadata": {},
   "outputs": [
    {
     "name": "stdout",
     "output_type": "stream",
     "text": [
      "['python', 12, 22, 45, 87, 34, 6, 11, 'data', 8, 0, 98, 17, 2]\n"
     ]
    }
   ],
   "source": [
    "list2=[2,17,98,0,8,\"data\",11,6,34,87,45,22,12,\"python\"]\n",
    "list2.reverse()\n",
    "print(list2)"
   ]
  },
  {
   "cell_type": "markdown",
   "id": "41073614",
   "metadata": {},
   "source": [
    "# Adding all numbers in a list"
   ]
  },
  {
   "cell_type": "code",
   "execution_count": 27,
   "id": "1c8c1bef",
   "metadata": {},
   "outputs": [
    {
     "name": "stdout",
     "output_type": "stream",
     "text": [
      "List is [14, 15, 12, 78, -9, 23, -8, 52, 74, 89, 25, 102, 8]\n",
      "sum of list is 475\n"
     ]
    }
   ],
   "source": [
    "l=[14,15,12,78,-9,23,-8,52,74,89,25,102,8]\n",
    "print(\"List is\",l)\n",
    "a=0\n",
    "for i in range(len(l)):\n",
    "    a=a+l[i];\n",
    "    i=i+1\n",
    "print(\"sum of list is\", a)"
   ]
  },
  {
   "cell_type": "markdown",
   "id": "1818df84",
   "metadata": {},
   "source": [
    "# Multiplying all number in a list"
   ]
  },
  {
   "cell_type": "code",
   "execution_count": 32,
   "id": "e84f2a68",
   "metadata": {},
   "outputs": [
    {
     "name": "stdout",
     "output_type": "stream",
     "text": [
      "List is [1, 2, 3, 4, 5, 6, 7, 8, 9, 10]\n",
      "sum of list is 3628800\n"
     ]
    }
   ],
   "source": [
    "l=[1,2,3,4,5,6,7,8,9,10]\n",
    "print(\"List is\",l)\n",
    "a=1\n",
    "for i in range(len(l)):\n",
    "    a=a*l[i];\n",
    "    i=i+1\n",
    "print(\"sum of list is\", a)"
   ]
  },
  {
   "cell_type": "code",
   "execution_count": null,
   "id": "f0a6e5ae",
   "metadata": {},
   "outputs": [],
   "source": []
  }
 ],
 "metadata": {
  "kernelspec": {
   "display_name": "Python 3 (ipykernel)",
   "language": "python",
   "name": "python3"
  },
  "language_info": {
   "codemirror_mode": {
    "name": "ipython",
    "version": 3
   },
   "file_extension": ".py",
   "mimetype": "text/x-python",
   "name": "python",
   "nbconvert_exporter": "python",
   "pygments_lexer": "ipython3",
   "version": "3.10.9"
  }
 },
 "nbformat": 4,
 "nbformat_minor": 5
}
